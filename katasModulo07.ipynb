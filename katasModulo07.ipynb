{
 "cells": [
  {
   "cell_type": "markdown",
   "metadata": {},
   "source": [
    "## Primer Ejercicio"
   ]
  },
  {
   "cell_type": "code",
   "execution_count": 1,
   "metadata": {},
   "outputs": [],
   "source": [
    "planetas = []\n",
    "prompt =\"Ingresa el nombre de los planetas, escribe done para salir\"\n",
    "planeta =''"
   ]
  },
  {
   "cell_type": "code",
   "execution_count": 2,
   "metadata": {},
   "outputs": [
    {
     "name": "stdout",
     "output_type": "stream",
     "text": [
      "Ingresa el nombre de los planetas, escribe done para salirplaneta1\n",
      "Ingresa el nombre de los planetas, escribe done para salirplaneta2\n",
      "Ingresa el nombre de los planetas, escribe done para salirplaneta3\n",
      "Ingresa el nombre de los planetas, escribe done para salirplaneta4\n",
      "Ingresa el nombre de los planetas, escribe done para salirplaneta5\n",
      "Ingresa el nombre de los planetas, escribe done para salirplaneta6\n",
      "Ingresa el nombre de los planetas, escribe done para salirplaneta7\n",
      "Ingresa el nombre de los planetas, escribe done para salirplaneta8\n",
      "Ingresa el nombre de los planetas, escribe done para salirplaneta9\n",
      "Ingresa el nombre de los planetas, escribe done para salirdone\n"
     ]
    }
   ],
   "source": [
    "while planeta != 'done':\n",
    "    planeta = input (prompt)\n",
    "    if planeta != 'done':\n",
    "        planetas.append(planeta.title())"
   ]
  },
  {
   "cell_type": "markdown",
   "metadata": {},
   "source": [
    "## Segundo Ejercicio"
   ]
  },
  {
   "cell_type": "code",
   "execution_count": 3,
   "metadata": {},
   "outputs": [
    {
     "name": "stdout",
     "output_type": "stream",
     "text": [
      "Planeta1\n",
      "Planeta2\n",
      "Planeta3\n",
      "Planeta4\n",
      "Planeta5\n",
      "Planeta6\n",
      "Planeta7\n",
      "Planeta8\n",
      "Planeta9\n"
     ]
    }
   ],
   "source": [
    "for planeta in planetas:\n",
    "    print(planeta)"
   ]
  },
  {
   "cell_type": "code",
   "execution_count": null,
   "metadata": {},
   "outputs": [],
   "source": []
  }
 ],
 "metadata": {
  "kernelspec": {
   "display_name": "Python 3",
   "language": "python",
   "name": "python3"
  },
  "language_info": {
   "codemirror_mode": {
    "name": "ipython",
    "version": 3
   },
   "file_extension": ".py",
   "mimetype": "text/x-python",
   "name": "python",
   "nbconvert_exporter": "python",
   "pygments_lexer": "ipython3",
   "version": "3.7.2"
  }
 },
 "nbformat": 4,
 "nbformat_minor": 2
}
