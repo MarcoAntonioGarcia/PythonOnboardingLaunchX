{
 "cells": [
  {
   "cell_type": "markdown",
   "metadata": {},
   "source": [
    "## Primer Ejercicio"
   ]
  },
  {
   "cell_type": "code",
   "execution_count": 1,
   "metadata": {},
   "outputs": [],
   "source": [
    "def informe_combustible (tanque1, tanque2, tanque3):\n",
    "    avg_tanques = (tanque1 + tanque2 + tanque3)/3\n",
    "    return f\"\"\"Reporte de combustible:\n",
    "    Promedio: {avg_tanques}%\n",
    "    Tanque 1: {tanque1}%\n",
    "    Tanque 2: {tanque2}%\n",
    "    Tanque 3: {tanque3}%\n",
    "    \"\"\""
   ]
  },
  {
   "cell_type": "code",
   "execution_count": 3,
   "metadata": {},
   "outputs": [
    {
     "name": "stdout",
     "output_type": "stream",
     "text": [
      "Reporte de combustible:\n",
      "    Promedio: 17.333333333333332%\n",
      "    Tanque 1: 17%\n",
      "    Tanque 2: 15%\n",
      "    Tanque 3: 20%\n",
      "    \n"
     ]
    }
   ],
   "source": [
    "print(informe_combustible(17,15,20))"
   ]
  },
  {
   "cell_type": "code",
   "execution_count": 4,
   "metadata": {},
   "outputs": [],
   "source": [
    "def promedio (tanque1, tanque2, tanque3):\n",
    "    avg = (tanque1 + tanque2 + tanque3)/3\n",
    "    return avg"
   ]
  },
  {
   "cell_type": "code",
   "execution_count": 5,
   "metadata": {},
   "outputs": [],
   "source": [
    "def informe_combustible (tanque1, tanque2, tanque3):\n",
    "    return f\"\"\"Reporte de combustible:\n",
    "    Promedio: {promedio (tanque1, tanque2, tanque3)}%\n",
    "    Tanque 1: {tanque1}%\n",
    "    Tanque 2: {tanque2}%\n",
    "    Tanque 3: {tanque3}%\n",
    "    \"\"\""
   ]
  },
  {
   "cell_type": "code",
   "execution_count": 6,
   "metadata": {},
   "outputs": [
    {
     "name": "stdout",
     "output_type": "stream",
     "text": [
      "Reporte de combustible:\n",
      "    Promedio: 17.333333333333332%\n",
      "    Tanque 1: 17%\n",
      "    Tanque 2: 15%\n",
      "    Tanque 3: 20%\n",
      "    \n"
     ]
    }
   ],
   "source": [
    "print(informe_combustible(17,15,20))"
   ]
  },
  {
   "cell_type": "markdown",
   "metadata": {},
   "source": [
    "## Segundo Ejercicio"
   ]
  },
  {
   "cell_type": "code",
   "execution_count": 7,
   "metadata": {},
   "outputs": [],
   "source": [
    "def informe_cohete (horaPre, tiempoVuelo, destino, tanqueExt, tanqueInt):\n",
    "    return f\"\"\"Destino {destino}\n",
    "Tiempo toal de viaje {horaPre + tiempoVuelo} minutos\n",
    "Combustible total = {tanqueExt + tanqueInt} lts\n",
    "\"\"\""
   ]
  },
  {
   "cell_type": "code",
   "execution_count": 8,
   "metadata": {},
   "outputs": [
    {
     "name": "stdout",
     "output_type": "stream",
     "text": [
      "Destino Luna\n",
      "Tiempo toal de viaje 29 minutos\n",
      "Combustible total = 24 lts\n",
      "\n"
     ]
    }
   ],
   "source": [
    "print(informe_cohete (13,16,'Luna',15,9))"
   ]
  },
  {
   "cell_type": "code",
   "execution_count": 9,
   "metadata": {},
   "outputs": [],
   "source": [
    "def informe_cohete(destino, *tiempo_min, **tanques):\n",
    "    return f\"\"\"Destino {destino}\n",
    "Tiempo toal de viaje {sum(tiempo_min)} minutos\n",
    "Combustible total = {sum(tanques.values())} lts\n",
    "\"\"\"  "
   ]
  },
  {
   "cell_type": "code",
   "execution_count": 11,
   "metadata": {},
   "outputs": [
    {
     "name": "stdout",
     "output_type": "stream",
     "text": [
      "Destino Luna\n",
      "Tiempo toal de viaje 31 minutos\n",
      "Combustible total = 22 lts\n",
      "\n"
     ]
    }
   ],
   "source": [
    "print(informe_cohete ('Luna',15,16, Interno = 13, Externo = 9))"
   ]
  },
  {
   "cell_type": "code",
   "execution_count": 12,
   "metadata": {},
   "outputs": [],
   "source": [
    "def informe_cohete(destino, *tiempo_min, **tanques):\n",
    "    informe = f\"\"\"Destino {destino}\n",
    "    Tiempo toal de viaje {sum(tiempo_min)} minutos\n",
    "    Combustible total = {sum(tanques.values())} lts\n",
    "    \"\"\" \n",
    "    for tanque, lts in tanques.items():\n",
    "        informe += f\"Tanque: {tanque}  --> {lts} lts \\n\"\n",
    "    return informe"
   ]
  },
  {
   "cell_type": "code",
   "execution_count": 13,
   "metadata": {},
   "outputs": [
    {
     "name": "stdout",
     "output_type": "stream",
     "text": [
      "Destino Luna\n",
      "    Tiempo toal de viaje 33 minutos\n",
      "    Combustible total = 26 lts\n",
      "    Tanque: Interno  --> 17 lts \n",
      "Tanque: Externo  --> 9 lts \n",
      "\n"
     ]
    }
   ],
   "source": [
    "print(informe_cohete ('Luna',15,18, Interno = 17, Externo = 9))"
   ]
  },
  {
   "cell_type": "code",
   "execution_count": null,
   "metadata": {},
   "outputs": [],
   "source": []
  }
 ],
 "metadata": {
  "kernelspec": {
   "display_name": "Python 3",
   "language": "python",
   "name": "python3"
  },
  "language_info": {
   "codemirror_mode": {
    "name": "ipython",
    "version": 3
   },
   "file_extension": ".py",
   "mimetype": "text/x-python",
   "name": "python",
   "nbconvert_exporter": "python",
   "pygments_lexer": "ipython3",
   "version": "3.7.2"
  }
 },
 "nbformat": 4,
 "nbformat_minor": 2
}
